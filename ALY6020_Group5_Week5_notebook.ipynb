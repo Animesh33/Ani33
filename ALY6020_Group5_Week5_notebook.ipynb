{
 "cells": [
  {
   "cell_type": "raw",
   "metadata": {},
   "source": [
    "!pip install keras"
   ]
  },
  {
   "cell_type": "raw",
   "metadata": {},
   "source": [
    "!pip install tensorflow"
   ]
  },
  {
   "cell_type": "code",
   "execution_count": 13,
   "metadata": {},
   "outputs": [],
   "source": [
    "import numpy as np \n",
    "import pandas as pd \n",
    "import seaborn as sb\n",
    "import matplotlib.pyplot as plt\n",
    "from keras.utils import np_utils\n",
    "from keras.models import Sequential\n",
    "from keras.layers import Dense, Flatten, Conv2D, MaxPool2D, Dropout\n",
    "\n",
    "from tensorflow import keras\n",
    "from keras.utils import to_categorical\n",
    "from sklearn.model_selection import train_test_split\n",
    "from sklearn.preprocessing import MinMaxScaler\n",
    "from sklearn.neighbors import KNeighborsClassifier\n",
    "from sklearn.metrics import accuracy_score, confusion_matrix"
   ]
  },
  {
   "cell_type": "code",
   "execution_count": 14,
   "metadata": {},
   "outputs": [
    {
     "name": "stdout",
     "output_type": "stream",
     "text": [
      "The dimension of our data is : (42000, 260)\n"
     ]
    }
   ],
   "source": [
    "df = pd.read_csv('~/Predictive_Analytics/Week5/letters.csv')\n",
    "print('The dimension of our data is :',df.shape)"
   ]
  },
  {
   "cell_type": "code",
   "execution_count": 15,
   "metadata": {},
   "outputs": [
    {
     "data": {
      "text/plain": [
       "array([1, 0, 4, 7, 3, 5, 8, 9, 2, 6])"
      ]
     },
     "execution_count": 15,
     "metadata": {},
     "output_type": "execute_result"
    }
   ],
   "source": [
    "df.label.unique()"
   ]
  },
  {
   "cell_type": "markdown",
   "metadata": {},
   "source": [
    "## kNN Algorithm"
   ]
  },
  {
   "cell_type": "code",
   "execution_count": 16,
   "metadata": {},
   "outputs": [
    {
     "name": "stdout",
     "output_type": "stream",
     "text": [
      "Features SHAPE :(42000, 259)\n",
      "Class Column SHAPE :(42000,)\n"
     ]
    },
    {
     "data": {
      "text/plain": [
       "((33600, 259), (8400, 259), (33600,), (8400,))"
      ]
     },
     "execution_count": 16,
     "metadata": {},
     "output_type": "execute_result"
    }
   ],
   "source": [
    "X = df.drop('label',axis = 1)\n",
    "y = df.label\n",
    "#get the shape of labels and features \n",
    "print(f'Features SHAPE :{X.shape}')\n",
    "print(f'Class Column SHAPE :{y.shape}')\n",
    "#split into train and test set \n",
    "X_train, X_test, y_train, y_test = train_test_split(X, y, test_size = 0.2)\n",
    "X_train.shape, X_test.shape, y_train.shape, y_test.shape"
   ]
  },
  {
   "cell_type": "code",
   "execution_count": 17,
   "metadata": {},
   "outputs": [
    {
     "data": {
      "text/plain": [
       "((33600, 10), (8400, 10))"
      ]
     },
     "execution_count": 17,
     "metadata": {},
     "output_type": "execute_result"
    }
   ],
   "source": [
    "y_train = np_utils.to_categorical(y_train,num_classes=10,dtype=int)\n",
    "y_test = np_utils.to_categorical(y_test,num_classes=10,dtype=int)\n",
    "y_train.shape,y_test.shape"
   ]
  },
  {
   "cell_type": "code",
   "execution_count": 18,
   "metadata": {},
   "outputs": [],
   "source": [
    "scaler = MinMaxScaler()\n",
    "scaler.fit(X_train)\n",
    "#scaling data \n",
    "X_train = scaler.transform(X_train)\n",
    "X_test = scaler.transform(X_test)"
   ]
  },
  {
   "cell_type": "code",
   "execution_count": 19,
   "metadata": {},
   "outputs": [
    {
     "data": {
      "text/plain": [
       "KNeighborsClassifier(n_jobs=10)"
      ]
     },
     "execution_count": 19,
     "metadata": {},
     "output_type": "execute_result"
    }
   ],
   "source": [
    "clf = KNeighborsClassifier(n_neighbors=5,algorithm='auto',n_jobs=10)\n",
    "clf.fit(X_train,y_train)"
   ]
  },
  {
   "cell_type": "code",
   "execution_count": 20,
   "metadata": {},
   "outputs": [],
   "source": [
    "confidence = clf.score(X_test,y_test)\n",
    "y_pred = clf.predict(X_test)\n",
    "accuracy = accuracy_score(y_test, y_pred)"
   ]
  },
  {
   "cell_type": "code",
   "execution_count": 21,
   "metadata": {},
   "outputs": [
    {
     "name": "stdout",
     "output_type": "stream",
     "text": [
      "\n",
      "KNN Trained Classifier Confidence:  0.8810714285714286\n",
      "\n",
      "Accuracy of Classifier on Validation Data:  0.8810714285714286\n"
     ]
    }
   ],
   "source": [
    "print('\\nKNN Trained Classifier Confidence: ',confidence)\n",
    "print('\\nAccuracy of Classifier on Validation Data: ',accuracy)"
   ]
  },
  {
   "cell_type": "code",
   "execution_count": 22,
   "metadata": {},
   "outputs": [
    {
     "name": "stdout",
     "output_type": "stream",
     "text": [
      "              precision    recall  f1-score   support\n",
      "\n",
      "           0       0.95      0.98      0.97       821\n",
      "           1       0.94      0.98      0.96       865\n",
      "           2       0.95      0.86      0.90       812\n",
      "           3       0.86      0.84      0.85       851\n",
      "           4       0.91      0.66      0.77       831\n",
      "           5       0.86      0.81      0.83       734\n",
      "           6       0.98      0.95      0.96       894\n",
      "           7       0.89      0.95      0.92       893\n",
      "           8       0.96      0.86      0.91       829\n",
      "           9       0.75      0.90      0.82       870\n",
      "\n",
      "   micro avg       0.90      0.88      0.89      8400\n",
      "   macro avg       0.91      0.88      0.89      8400\n",
      "weighted avg       0.91      0.88      0.89      8400\n",
      " samples avg       0.88      0.88      0.88      8400\n",
      "\n"
     ]
    },
    {
     "name": "stderr",
     "output_type": "stream",
     "text": [
      "/home/rdcosta/.local/lib/python3.7/site-packages/sklearn/metrics/_classification.py:1245: UndefinedMetricWarning: Precision and F-score are ill-defined and being set to 0.0 in samples with no predicted labels. Use `zero_division` parameter to control this behavior.\n",
      "  _warn_prf(average, modifier, msg_start, len(result))\n"
     ]
    }
   ],
   "source": [
    "from sklearn.metrics import confusion_matrix, classification_report\n",
    "\n",
    "print(classification_report(y_test, y_pred))"
   ]
  },
  {
   "cell_type": "code",
   "execution_count": 23,
   "metadata": {},
   "outputs": [],
   "source": [
    "numbers_dict = {0:'0',1:'1',2:'2',3:'3',4:'4',5:'5',6:'6',\n",
    "             7:'7',8:'8',9:'9'}\n",
    "preds = clf.predict(X_test)\n",
    "predicted_values = [np.argmax(y, axis=None, out=None) for y in preds]\n",
    "#get the alphabets using letters dictionnary \n",
    "predicted_numbers =[numbers_dict[i] for i in predicted_values]\n",
    "#Reverse y_test from one hot encoder to an array \n",
    "test_labels = [np.argmax(y, axis=None, out=None) for y in y_test]\n",
    "#same for real alphabets \n",
    "test_numbers = [numbers_dict[i] for i in test_labels]\n",
    "# create a submission dataframe \n",
    "submission = pd.DataFrame({'Real Number':test_numbers,'Predicted Number':predicted_numbers })"
   ]
  },
  {
   "cell_type": "code",
   "execution_count": 24,
   "metadata": {},
   "outputs": [
    {
     "data": {
      "text/html": [
       "<div>\n",
       "<style scoped>\n",
       "    .dataframe tbody tr th:only-of-type {\n",
       "        vertical-align: middle;\n",
       "    }\n",
       "\n",
       "    .dataframe tbody tr th {\n",
       "        vertical-align: top;\n",
       "    }\n",
       "\n",
       "    .dataframe thead th {\n",
       "        text-align: right;\n",
       "    }\n",
       "</style>\n",
       "<table border=\"1\" class=\"dataframe\">\n",
       "  <thead>\n",
       "    <tr style=\"text-align: right;\">\n",
       "      <th></th>\n",
       "      <th>Real Number</th>\n",
       "      <th>Predicted Number</th>\n",
       "    </tr>\n",
       "  </thead>\n",
       "  <tbody>\n",
       "    <tr>\n",
       "      <th>0</th>\n",
       "      <td>2</td>\n",
       "      <td>2</td>\n",
       "    </tr>\n",
       "    <tr>\n",
       "      <th>1</th>\n",
       "      <td>4</td>\n",
       "      <td>4</td>\n",
       "    </tr>\n",
       "    <tr>\n",
       "      <th>2</th>\n",
       "      <td>7</td>\n",
       "      <td>7</td>\n",
       "    </tr>\n",
       "    <tr>\n",
       "      <th>3</th>\n",
       "      <td>0</td>\n",
       "      <td>0</td>\n",
       "    </tr>\n",
       "    <tr>\n",
       "      <th>4</th>\n",
       "      <td>8</td>\n",
       "      <td>8</td>\n",
       "    </tr>\n",
       "    <tr>\n",
       "      <th>...</th>\n",
       "      <td>...</td>\n",
       "      <td>...</td>\n",
       "    </tr>\n",
       "    <tr>\n",
       "      <th>8395</th>\n",
       "      <td>1</td>\n",
       "      <td>1</td>\n",
       "    </tr>\n",
       "    <tr>\n",
       "      <th>8396</th>\n",
       "      <td>2</td>\n",
       "      <td>2</td>\n",
       "    </tr>\n",
       "    <tr>\n",
       "      <th>8397</th>\n",
       "      <td>1</td>\n",
       "      <td>1</td>\n",
       "    </tr>\n",
       "    <tr>\n",
       "      <th>8398</th>\n",
       "      <td>1</td>\n",
       "      <td>1</td>\n",
       "    </tr>\n",
       "    <tr>\n",
       "      <th>8399</th>\n",
       "      <td>3</td>\n",
       "      <td>3</td>\n",
       "    </tr>\n",
       "  </tbody>\n",
       "</table>\n",
       "<p>8400 rows × 2 columns</p>\n",
       "</div>"
      ],
      "text/plain": [
       "     Real Number Predicted Number\n",
       "0              2                2\n",
       "1              4                4\n",
       "2              7                7\n",
       "3              0                0\n",
       "4              8                8\n",
       "...          ...              ...\n",
       "8395           1                1\n",
       "8396           2                2\n",
       "8397           1                1\n",
       "8398           1                1\n",
       "8399           3                3\n",
       "\n",
       "[8400 rows x 2 columns]"
      ]
     },
     "execution_count": 24,
     "metadata": {},
     "output_type": "execute_result"
    }
   ],
   "source": [
    "submission"
   ]
  },
  {
   "cell_type": "markdown",
   "metadata": {},
   "source": [
    "## Neural Network"
   ]
  },
  {
   "cell_type": "code",
   "execution_count": 25,
   "metadata": {},
   "outputs": [],
   "source": [
    "x = df.drop(['label'],axis=1)\n",
    "y = df['label']"
   ]
  },
  {
   "cell_type": "code",
   "execution_count": 26,
   "metadata": {},
   "outputs": [],
   "source": [
    "(x_train,x_test,y_trainNN,y_testNN) = train_test_split(x,y,test_size=0.1,random_state=42)"
   ]
  },
  {
   "cell_type": "code",
   "execution_count": 27,
   "metadata": {},
   "outputs": [
    {
     "name": "stdout",
     "output_type": "stream",
     "text": [
      "Epoch 1/10\n",
      "1182/1182 [==============================] - 1s 893us/step - loss: 1.2135 - accuracy: 0.6183\n",
      "Epoch 2/10\n",
      "1182/1182 [==============================] - 1s 843us/step - loss: 0.5986 - accuracy: 0.8064\n",
      "Epoch 3/10\n",
      "1182/1182 [==============================] - 1s 824us/step - loss: 0.5295 - accuracy: 0.8293\n",
      "Epoch 4/10\n",
      "1182/1182 [==============================] - 1s 823us/step - loss: 0.4938 - accuracy: 0.8398\n",
      "Epoch 5/10\n",
      "1182/1182 [==============================] - 1s 824us/step - loss: 0.4575 - accuracy: 0.8463\n",
      "Epoch 6/10\n",
      "1182/1182 [==============================] - 1s 822us/step - loss: 0.4525 - accuracy: 0.8504\n",
      "Epoch 7/10\n",
      "1182/1182 [==============================] - 1s 822us/step - loss: 0.4337 - accuracy: 0.8539\n",
      "Epoch 8/10\n",
      "1182/1182 [==============================] - 1s 824us/step - loss: 0.4147 - accuracy: 0.8594\n",
      "Epoch 9/10\n",
      "1182/1182 [==============================] - 1s 819us/step - loss: 0.4242 - accuracy: 0.8575\n",
      "Epoch 10/10\n",
      "1182/1182 [==============================] - 1s 857us/step - loss: 0.3978 - accuracy: 0.8667\n"
     ]
    },
    {
     "data": {
      "text/plain": [
       "<tensorflow.python.keras.callbacks.History at 0x2b7e136a9790>"
      ]
     },
     "execution_count": 27,
     "metadata": {},
     "output_type": "execute_result"
    }
   ],
   "source": [
    "model = keras.Sequential([\n",
    "    keras.layers.Flatten(),\n",
    "    keras.layers.Dense(100,activation='sigmoid'), #every layer is connected\n",
    "    keras.layers.Dense(10,activation='sigmoid') \n",
    "    \n",
    "])#stack of layers in my neural network\n",
    "\n",
    "model.compile(\n",
    "    optimizer='adam',\n",
    "    loss = 'sparse_categorical_crossentropy',\n",
    "    metrics = ['accuracy']\n",
    ")\n",
    "model.fit(x_train,y_trainNN,epochs=10)"
   ]
  },
  {
   "cell_type": "code",
   "execution_count": 28,
   "metadata": {},
   "outputs": [
    {
     "name": "stdout",
     "output_type": "stream",
     "text": [
      "132/132 [==============================] - 0s 825us/step - loss: 0.4221 - accuracy: 0.8610\n"
     ]
    },
    {
     "data": {
      "text/plain": [
       "[0.42205750942230225, 0.8609523773193359]"
      ]
     },
     "execution_count": 28,
     "metadata": {},
     "output_type": "execute_result"
    }
   ],
   "source": [
    "model.evaluate(x_test,y_testNN)"
   ]
  },
  {
   "cell_type": "code",
   "execution_count": 29,
   "metadata": {},
   "outputs": [],
   "source": [
    "y_predicted = model.predict(x_test)"
   ]
  },
  {
   "cell_type": "code",
   "execution_count": 30,
   "metadata": {},
   "outputs": [],
   "source": [
    "y_predicted_label = [np.argmax(i) for i in y_predicted]\n",
    "submission2 = pd.DataFrame({'Real Number':y_testNN,'Predicted Number':y_predicted_label})"
   ]
  },
  {
   "cell_type": "code",
   "execution_count": 31,
   "metadata": {},
   "outputs": [
    {
     "data": {
      "text/html": [
       "<div>\n",
       "<style scoped>\n",
       "    .dataframe tbody tr th:only-of-type {\n",
       "        vertical-align: middle;\n",
       "    }\n",
       "\n",
       "    .dataframe tbody tr th {\n",
       "        vertical-align: top;\n",
       "    }\n",
       "\n",
       "    .dataframe thead th {\n",
       "        text-align: right;\n",
       "    }\n",
       "</style>\n",
       "<table border=\"1\" class=\"dataframe\">\n",
       "  <thead>\n",
       "    <tr style=\"text-align: right;\">\n",
       "      <th></th>\n",
       "      <th>Real Number</th>\n",
       "      <th>Predicted Number</th>\n",
       "    </tr>\n",
       "  </thead>\n",
       "  <tbody>\n",
       "    <tr>\n",
       "      <th>5457</th>\n",
       "      <td>8</td>\n",
       "      <td>8</td>\n",
       "    </tr>\n",
       "    <tr>\n",
       "      <th>38509</th>\n",
       "      <td>1</td>\n",
       "      <td>1</td>\n",
       "    </tr>\n",
       "    <tr>\n",
       "      <th>25536</th>\n",
       "      <td>9</td>\n",
       "      <td>9</td>\n",
       "    </tr>\n",
       "    <tr>\n",
       "      <th>31803</th>\n",
       "      <td>9</td>\n",
       "      <td>3</td>\n",
       "    </tr>\n",
       "    <tr>\n",
       "      <th>39863</th>\n",
       "      <td>8</td>\n",
       "      <td>8</td>\n",
       "    </tr>\n",
       "    <tr>\n",
       "      <th>...</th>\n",
       "      <td>...</td>\n",
       "      <td>...</td>\n",
       "    </tr>\n",
       "    <tr>\n",
       "      <th>16041</th>\n",
       "      <td>4</td>\n",
       "      <td>4</td>\n",
       "    </tr>\n",
       "    <tr>\n",
       "      <th>4867</th>\n",
       "      <td>2</td>\n",
       "      <td>2</td>\n",
       "    </tr>\n",
       "    <tr>\n",
       "      <th>28123</th>\n",
       "      <td>7</td>\n",
       "      <td>7</td>\n",
       "    </tr>\n",
       "    <tr>\n",
       "      <th>3780</th>\n",
       "      <td>7</td>\n",
       "      <td>7</td>\n",
       "    </tr>\n",
       "    <tr>\n",
       "      <th>7155</th>\n",
       "      <td>5</td>\n",
       "      <td>3</td>\n",
       "    </tr>\n",
       "  </tbody>\n",
       "</table>\n",
       "<p>4200 rows × 2 columns</p>\n",
       "</div>"
      ],
      "text/plain": [
       "       Real Number  Predicted Number\n",
       "5457             8                 8\n",
       "38509            1                 1\n",
       "25536            9                 9\n",
       "31803            9                 3\n",
       "39863            8                 8\n",
       "...            ...               ...\n",
       "16041            4                 4\n",
       "4867             2                 2\n",
       "28123            7                 7\n",
       "3780             7                 7\n",
       "7155             5                 3\n",
       "\n",
       "[4200 rows x 2 columns]"
      ]
     },
     "execution_count": 31,
     "metadata": {},
     "output_type": "execute_result"
    }
   ],
   "source": [
    "submission2"
   ]
  },
  {
   "cell_type": "code",
   "execution_count": 33,
   "metadata": {},
   "outputs": [
    {
     "name": "stdout",
     "output_type": "stream",
     "text": [
      "              precision    recall  f1-score   support\n",
      "\n",
      "           0       0.93      0.95      0.94       408\n",
      "           1       0.93      0.97      0.95       471\n",
      "           2       0.89      0.88      0.88       420\n",
      "           3       0.86      0.79      0.82       506\n",
      "           4       0.78      0.75      0.76       397\n",
      "           5       0.78      0.80      0.79       339\n",
      "           6       0.94      0.92      0.93       402\n",
      "           7       0.92      0.90      0.91       438\n",
      "           8       0.80      0.90      0.84       403\n",
      "           9       0.76      0.76      0.76       416\n",
      "\n",
      "    accuracy                           0.86      4200\n",
      "   macro avg       0.86      0.86      0.86      4200\n",
      "weighted avg       0.86      0.86      0.86      4200\n",
      "\n"
     ]
    }
   ],
   "source": [
    "print(classification_report(y_testNN, y_predicted_label))"
   ]
  },
  {
   "cell_type": "code",
   "execution_count": null,
   "metadata": {},
   "outputs": [],
   "source": []
  }
 ],
 "metadata": {
  "kernelspec": {
   "display_name": "Python 3",
   "language": "python",
   "name": "python3"
  },
  "language_info": {
   "codemirror_mode": {
    "name": "ipython",
    "version": 3
   },
   "file_extension": ".py",
   "mimetype": "text/x-python",
   "name": "python",
   "nbconvert_exporter": "python",
   "pygments_lexer": "ipython3",
   "version": "3.7.6"
  }
 },
 "nbformat": 4,
 "nbformat_minor": 4
}
