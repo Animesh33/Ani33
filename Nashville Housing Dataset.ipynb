{
 "cells": [
  {
   "cell_type": "markdown",
   "metadata": {},
   "source": [
    "# Nashville Housing Data Analysis using differnt ML Algorithms (Week 4)"
   ]
  },
  {
   "cell_type": "code",
   "execution_count": 1,
   "metadata": {},
   "outputs": [],
   "source": [
    "import pandas as pd\n",
    "import numpy as np\n",
    "import matplotlib.pyplot as plt\n",
    "\n",
    "%matplotlib inline\n",
    "import seaborn as sns\n",
    "import statsmodels.api as sm"
   ]
  },
  {
   "cell_type": "code",
   "execution_count": 2,
   "metadata": {},
   "outputs": [],
   "source": [
    "pd.set_option('display.max_columns', 100)\n",
    "pd.set_option('display.max_rows', 110)"
   ]
  },
  {
   "cell_type": "code",
   "execution_count": 3,
   "metadata": {},
   "outputs": [
    {
     "data": {
      "text/html": [
       "<div>\n",
       "<style scoped>\n",
       "    .dataframe tbody tr th:only-of-type {\n",
       "        vertical-align: middle;\n",
       "    }\n",
       "\n",
       "    .dataframe tbody tr th {\n",
       "        vertical-align: top;\n",
       "    }\n",
       "\n",
       "    .dataframe thead th {\n",
       "        text-align: right;\n",
       "    }\n",
       "</style>\n",
       "<table border=\"1\" class=\"dataframe\">\n",
       "  <thead>\n",
       "    <tr style=\"text-align: right;\">\n",
       "      <th></th>\n",
       "      <th>Unnamed: 0</th>\n",
       "      <th>Unnamed: 0.1</th>\n",
       "      <th>Parcel ID</th>\n",
       "      <th>Land Use</th>\n",
       "      <th>Property Address</th>\n",
       "      <th>Suite/ Condo   #</th>\n",
       "      <th>Property City</th>\n",
       "      <th>Sale Date</th>\n",
       "      <th>Sale Price</th>\n",
       "      <th>Legal Reference</th>\n",
       "      <th>Sold As Vacant</th>\n",
       "      <th>Multiple Parcels Involved in Sale</th>\n",
       "      <th>Owner Name</th>\n",
       "      <th>Address</th>\n",
       "      <th>City</th>\n",
       "      <th>State</th>\n",
       "      <th>Acreage</th>\n",
       "      <th>Tax District</th>\n",
       "      <th>Neighborhood</th>\n",
       "      <th>image</th>\n",
       "      <th>Land Value</th>\n",
       "      <th>Building Value</th>\n",
       "      <th>Total Value</th>\n",
       "      <th>Finished Area</th>\n",
       "      <th>Foundation Type</th>\n",
       "      <th>Year Built</th>\n",
       "      <th>Exterior Wall</th>\n",
       "      <th>Grade</th>\n",
       "      <th>Bedrooms</th>\n",
       "      <th>Full Bath</th>\n",
       "      <th>Half Bath</th>\n",
       "    </tr>\n",
       "  </thead>\n",
       "  <tbody>\n",
       "    <tr>\n",
       "      <th>0</th>\n",
       "      <td>0</td>\n",
       "      <td>0</td>\n",
       "      <td>105 03 0D 008.00</td>\n",
       "      <td>RESIDENTIAL CONDO</td>\n",
       "      <td>1208  3RD AVE S</td>\n",
       "      <td>8</td>\n",
       "      <td>NASHVILLE</td>\n",
       "      <td>2013-01-24</td>\n",
       "      <td>132000</td>\n",
       "      <td>20130128-0008725</td>\n",
       "      <td>No</td>\n",
       "      <td>No</td>\n",
       "      <td>NaN</td>\n",
       "      <td>NaN</td>\n",
       "      <td>NaN</td>\n",
       "      <td>NaN</td>\n",
       "      <td>NaN</td>\n",
       "      <td>NaN</td>\n",
       "      <td>NaN</td>\n",
       "      <td>NaN</td>\n",
       "      <td>NaN</td>\n",
       "      <td>NaN</td>\n",
       "      <td>NaN</td>\n",
       "      <td>NaN</td>\n",
       "      <td>NaN</td>\n",
       "      <td>NaN</td>\n",
       "      <td>NaN</td>\n",
       "      <td>NaN</td>\n",
       "      <td>NaN</td>\n",
       "      <td>NaN</td>\n",
       "      <td>NaN</td>\n",
       "    </tr>\n",
       "    <tr>\n",
       "      <th>1</th>\n",
       "      <td>1</td>\n",
       "      <td>1</td>\n",
       "      <td>105 11 0 080.00</td>\n",
       "      <td>SINGLE FAMILY</td>\n",
       "      <td>1802  STEWART PL</td>\n",
       "      <td>NaN</td>\n",
       "      <td>NASHVILLE</td>\n",
       "      <td>2013-01-11</td>\n",
       "      <td>191500</td>\n",
       "      <td>20130118-0006337</td>\n",
       "      <td>No</td>\n",
       "      <td>No</td>\n",
       "      <td>STINSON, LAURA M.</td>\n",
       "      <td>1802  STEWART PL</td>\n",
       "      <td>NASHVILLE</td>\n",
       "      <td>TN</td>\n",
       "      <td>0.17</td>\n",
       "      <td>URBAN SERVICES DISTRICT</td>\n",
       "      <td>3127.0</td>\n",
       "      <td>\\114000\\910001.JPG</td>\n",
       "      <td>32000.0</td>\n",
       "      <td>134400.0</td>\n",
       "      <td>168300.0</td>\n",
       "      <td>1149.00000</td>\n",
       "      <td>PT BSMT</td>\n",
       "      <td>1941.0</td>\n",
       "      <td>BRICK</td>\n",
       "      <td>C</td>\n",
       "      <td>2.0</td>\n",
       "      <td>1.0</td>\n",
       "      <td>0.0</td>\n",
       "    </tr>\n",
       "    <tr>\n",
       "      <th>2</th>\n",
       "      <td>2</td>\n",
       "      <td>2</td>\n",
       "      <td>118 03 0 130.00</td>\n",
       "      <td>SINGLE FAMILY</td>\n",
       "      <td>2761  ROSEDALE PL</td>\n",
       "      <td>NaN</td>\n",
       "      <td>NASHVILLE</td>\n",
       "      <td>2013-01-18</td>\n",
       "      <td>202000</td>\n",
       "      <td>20130124-0008033</td>\n",
       "      <td>No</td>\n",
       "      <td>No</td>\n",
       "      <td>NUNES, JARED R.</td>\n",
       "      <td>2761  ROSEDALE PL</td>\n",
       "      <td>NASHVILLE</td>\n",
       "      <td>TN</td>\n",
       "      <td>0.11</td>\n",
       "      <td>CITY OF BERRY HILL</td>\n",
       "      <td>9126.0</td>\n",
       "      <td>\\131000\\191001.JPG</td>\n",
       "      <td>34000.0</td>\n",
       "      <td>157800.0</td>\n",
       "      <td>191800.0</td>\n",
       "      <td>2090.82495</td>\n",
       "      <td>SLAB</td>\n",
       "      <td>2000.0</td>\n",
       "      <td>BRICK/FRAME</td>\n",
       "      <td>C</td>\n",
       "      <td>3.0</td>\n",
       "      <td>2.0</td>\n",
       "      <td>1.0</td>\n",
       "    </tr>\n",
       "    <tr>\n",
       "      <th>3</th>\n",
       "      <td>3</td>\n",
       "      <td>3</td>\n",
       "      <td>119 01 0 479.00</td>\n",
       "      <td>SINGLE FAMILY</td>\n",
       "      <td>224  PEACHTREE ST</td>\n",
       "      <td>NaN</td>\n",
       "      <td>NASHVILLE</td>\n",
       "      <td>2013-01-18</td>\n",
       "      <td>32000</td>\n",
       "      <td>20130128-0008863</td>\n",
       "      <td>No</td>\n",
       "      <td>No</td>\n",
       "      <td>WHITFORD, KAREN</td>\n",
       "      <td>224  PEACHTREE ST</td>\n",
       "      <td>NASHVILLE</td>\n",
       "      <td>TN</td>\n",
       "      <td>0.17</td>\n",
       "      <td>URBAN SERVICES DISTRICT</td>\n",
       "      <td>3130.0</td>\n",
       "      <td>\\133000\\721001.JPG</td>\n",
       "      <td>25000.0</td>\n",
       "      <td>243700.0</td>\n",
       "      <td>268700.0</td>\n",
       "      <td>2145.60001</td>\n",
       "      <td>FULL BSMT</td>\n",
       "      <td>1948.0</td>\n",
       "      <td>BRICK/FRAME</td>\n",
       "      <td>B</td>\n",
       "      <td>4.0</td>\n",
       "      <td>2.0</td>\n",
       "      <td>0.0</td>\n",
       "    </tr>\n",
       "    <tr>\n",
       "      <th>4</th>\n",
       "      <td>4</td>\n",
       "      <td>4</td>\n",
       "      <td>119 05 0 186.00</td>\n",
       "      <td>SINGLE FAMILY</td>\n",
       "      <td>316  LUTIE ST</td>\n",
       "      <td>NaN</td>\n",
       "      <td>NASHVILLE</td>\n",
       "      <td>2013-01-23</td>\n",
       "      <td>102000</td>\n",
       "      <td>20130131-0009929</td>\n",
       "      <td>No</td>\n",
       "      <td>No</td>\n",
       "      <td>HENDERSON, JAMES P. &amp; LYNN P.</td>\n",
       "      <td>316  LUTIE ST</td>\n",
       "      <td>NASHVILLE</td>\n",
       "      <td>TN</td>\n",
       "      <td>0.34</td>\n",
       "      <td>URBAN SERVICES DISTRICT</td>\n",
       "      <td>3130.0</td>\n",
       "      <td>\\134000\\474001.JPG</td>\n",
       "      <td>25000.0</td>\n",
       "      <td>138100.0</td>\n",
       "      <td>164800.0</td>\n",
       "      <td>1969.00000</td>\n",
       "      <td>CRAWL</td>\n",
       "      <td>1910.0</td>\n",
       "      <td>FRAME</td>\n",
       "      <td>C</td>\n",
       "      <td>2.0</td>\n",
       "      <td>1.0</td>\n",
       "      <td>0.0</td>\n",
       "    </tr>\n",
       "  </tbody>\n",
       "</table>\n",
       "</div>"
      ],
      "text/plain": [
       "   Unnamed: 0  Unnamed: 0.1         Parcel ID           Land Use  \\\n",
       "0           0             0  105 03 0D 008.00  RESIDENTIAL CONDO   \n",
       "1           1             1   105 11 0 080.00      SINGLE FAMILY   \n",
       "2           2             2   118 03 0 130.00      SINGLE FAMILY   \n",
       "3           3             3   119 01 0 479.00      SINGLE FAMILY   \n",
       "4           4             4   119 05 0 186.00      SINGLE FAMILY   \n",
       "\n",
       "    Property Address Suite/ Condo   # Property City   Sale Date  Sale Price  \\\n",
       "0    1208  3RD AVE S                8     NASHVILLE  2013-01-24      132000   \n",
       "1   1802  STEWART PL              NaN     NASHVILLE  2013-01-11      191500   \n",
       "2  2761  ROSEDALE PL              NaN     NASHVILLE  2013-01-18      202000   \n",
       "3  224  PEACHTREE ST              NaN     NASHVILLE  2013-01-18       32000   \n",
       "4      316  LUTIE ST              NaN     NASHVILLE  2013-01-23      102000   \n",
       "\n",
       "    Legal Reference Sold As Vacant Multiple Parcels Involved in Sale  \\\n",
       "0  20130128-0008725             No                                No   \n",
       "1  20130118-0006337             No                                No   \n",
       "2  20130124-0008033             No                                No   \n",
       "3  20130128-0008863             No                                No   \n",
       "4  20130131-0009929             No                                No   \n",
       "\n",
       "                      Owner Name            Address       City State  Acreage  \\\n",
       "0                            NaN                NaN        NaN   NaN      NaN   \n",
       "1              STINSON, LAURA M.   1802  STEWART PL  NASHVILLE    TN     0.17   \n",
       "2                NUNES, JARED R.  2761  ROSEDALE PL  NASHVILLE    TN     0.11   \n",
       "3                WHITFORD, KAREN  224  PEACHTREE ST  NASHVILLE    TN     0.17   \n",
       "4  HENDERSON, JAMES P. & LYNN P.      316  LUTIE ST  NASHVILLE    TN     0.34   \n",
       "\n",
       "              Tax District  Neighborhood               image  Land Value  \\\n",
       "0                      NaN           NaN                 NaN         NaN   \n",
       "1  URBAN SERVICES DISTRICT        3127.0  \\114000\\910001.JPG     32000.0   \n",
       "2       CITY OF BERRY HILL        9126.0  \\131000\\191001.JPG     34000.0   \n",
       "3  URBAN SERVICES DISTRICT        3130.0  \\133000\\721001.JPG     25000.0   \n",
       "4  URBAN SERVICES DISTRICT        3130.0  \\134000\\474001.JPG     25000.0   \n",
       "\n",
       "   Building Value  Total Value  Finished Area Foundation Type  Year Built  \\\n",
       "0             NaN          NaN            NaN             NaN         NaN   \n",
       "1        134400.0     168300.0     1149.00000         PT BSMT      1941.0   \n",
       "2        157800.0     191800.0     2090.82495            SLAB      2000.0   \n",
       "3        243700.0     268700.0     2145.60001       FULL BSMT      1948.0   \n",
       "4        138100.0     164800.0     1969.00000           CRAWL      1910.0   \n",
       "\n",
       "  Exterior Wall Grade  Bedrooms  Full Bath  Half Bath  \n",
       "0           NaN   NaN       NaN        NaN        NaN  \n",
       "1         BRICK  C          2.0        1.0        0.0  \n",
       "2   BRICK/FRAME  C          3.0        2.0        1.0  \n",
       "3   BRICK/FRAME  B          4.0        2.0        0.0  \n",
       "4         FRAME  C          2.0        1.0        0.0  "
      ]
     },
     "execution_count": 3,
     "metadata": {},
     "output_type": "execute_result"
    }
   ],
   "source": [
    "df = pd.read_csv('~/Predictive_Analytics/Week4/Nashville_housing_data_2013_2016.csv')\n",
    "df.head()"
   ]
  },
  {
   "cell_type": "code",
   "execution_count": 4,
   "metadata": {},
   "outputs": [
    {
     "data": {
      "text/plain": [
       "(56636, 31)"
      ]
     },
     "execution_count": 4,
     "metadata": {},
     "output_type": "execute_result"
    }
   ],
   "source": [
    "df.shape"
   ]
  },
  {
   "cell_type": "code",
   "execution_count": 5,
   "metadata": {},
   "outputs": [
    {
     "data": {
      "text/plain": [
       "Unnamed: 0                             int64\n",
       "Unnamed: 0.1                           int64\n",
       "Parcel ID                             object\n",
       "Land Use                              object\n",
       "Property Address                      object\n",
       "Suite/ Condo   #                      object\n",
       "Property City                         object\n",
       "Sale Date                             object\n",
       "Sale Price                             int64\n",
       "Legal Reference                       object\n",
       "Sold As Vacant                        object\n",
       "Multiple Parcels Involved in Sale     object\n",
       "Owner Name                            object\n",
       "Address                               object\n",
       "City                                  object\n",
       "State                                 object\n",
       "Acreage                              float64\n",
       "Tax District                          object\n",
       "Neighborhood                         float64\n",
       "image                                 object\n",
       "Land Value                           float64\n",
       "Building Value                       float64\n",
       "Total Value                          float64\n",
       "Finished Area                        float64\n",
       "Foundation Type                       object\n",
       "Year Built                           float64\n",
       "Exterior Wall                         object\n",
       "Grade                                 object\n",
       "Bedrooms                             float64\n",
       "Full Bath                            float64\n",
       "Half Bath                            float64\n",
       "dtype: object"
      ]
     },
     "execution_count": 5,
     "metadata": {},
     "output_type": "execute_result"
    }
   ],
   "source": [
    "df.dtypes"
   ]
  },
  {
   "cell_type": "code",
   "execution_count": 6,
   "metadata": {},
   "outputs": [],
   "source": [
    "#remove unwanted columns\n",
    "df.drop(df.columns[df.columns.str.contains('unnamed',case = False)],axis = 1, inplace = True)"
   ]
  },
  {
   "cell_type": "code",
   "execution_count": 7,
   "metadata": {},
   "outputs": [],
   "source": [
    "#drop columns not neccessary for modeling\n",
    "columns = ['Suite/ Condo   #','Owner Name','Address','City','State','image','Neighborhood','Legal Reference',\n",
    "           'Property Address','Parcel ID','Tax District']\n",
    "df = df.drop(columns,axis=1)"
   ]
  },
  {
   "cell_type": "code",
   "execution_count": 8,
   "metadata": {},
   "outputs": [
    {
     "data": {
      "text/plain": [
       "Land Use                                 0\n",
       "Property City                          159\n",
       "Sale Date                                0\n",
       "Sale Price                               0\n",
       "Sold As Vacant                           0\n",
       "Multiple Parcels Involved in Sale        0\n",
       "Acreage                              30619\n",
       "Land Value                           30619\n",
       "Building Value                       30619\n",
       "Total Value                          30619\n",
       "Finished Area                        32470\n",
       "Foundation Type                      32472\n",
       "Year Built                           32471\n",
       "Exterior Wall                        32471\n",
       "Grade                                32471\n",
       "Bedrooms                             32477\n",
       "Full Bath                            32359\n",
       "Half Bath                            32490\n",
       "dtype: int64"
      ]
     },
     "execution_count": 8,
     "metadata": {},
     "output_type": "execute_result"
    }
   ],
   "source": [
    "df.isnull().sum()"
   ]
  },
  {
   "cell_type": "code",
   "execution_count": 9,
   "metadata": {},
   "outputs": [],
   "source": [
    "#drop outliers\n",
    "df = df.drop(np.where(df['Acreage'] > 100)[0])"
   ]
  },
  {
   "cell_type": "code",
   "execution_count": 10,
   "metadata": {},
   "outputs": [],
   "source": [
    "#drop rows where we cannot identify any aspect of the land from the data. From the above isna() table we can see that many \n",
    "#of the columns are empty for the same rows. And if we do not have details like Acreage, land value, etc we cannot identify\n",
    "#the row as an existing land\n",
    "df = df.drop(df.loc[df['Acreage'].isna()].index)"
   ]
  },
  {
   "cell_type": "code",
   "execution_count": 11,
   "metadata": {},
   "outputs": [
    {
     "data": {
      "text/plain": [
       "Land Use                                0\n",
       "Property City                           2\n",
       "Sale Date                               0\n",
       "Sale Price                              0\n",
       "Sold As Vacant                          0\n",
       "Multiple Parcels Involved in Sale       0\n",
       "Acreage                                 0\n",
       "Land Value                              0\n",
       "Building Value                          0\n",
       "Total Value                             0\n",
       "Finished Area                        1850\n",
       "Foundation Type                      1852\n",
       "Year Built                           1851\n",
       "Exterior Wall                        1851\n",
       "Grade                                1851\n",
       "Bedrooms                             1857\n",
       "Full Bath                            1739\n",
       "Half Bath                            1870\n",
       "dtype: int64"
      ]
     },
     "execution_count": 11,
     "metadata": {},
     "output_type": "execute_result"
    }
   ],
   "source": [
    "df.isnull().sum()"
   ]
  },
  {
   "cell_type": "markdown",
   "metadata": {},
   "source": [
    "We can still see a few nulls in the data and now we will handle them separately"
   ]
  },
  {
   "cell_type": "code",
   "execution_count": 12,
   "metadata": {},
   "outputs": [],
   "source": [
    "#replacing the empty cities as Nashville\n",
    "df['Property City'] = np.where(df['Property City'].isna(),'NASHVILLE',df['Property City'])"
   ]
  },
  {
   "cell_type": "code",
   "execution_count": 13,
   "metadata": {},
   "outputs": [],
   "source": [
    "#creating a new column which will determine whether the construction on the land has completed or not based on Year Built\n",
    "df['Is it built?'] = pd.Series(dtype='int64')\n",
    "df['Is it built?'] = np.where(df['Year Built'].isna(),0,1)"
   ]
  },
  {
   "cell_type": "code",
   "execution_count": 14,
   "metadata": {},
   "outputs": [
    {
     "data": {
      "text/plain": [
       "1    2998\n",
       "2    2991\n",
       "3    2991\n",
       "4    2986\n",
       "5    3005\n",
       "Name: how old?, dtype: int64"
      ]
     },
     "execution_count": 14,
     "metadata": {},
     "output_type": "execute_result"
    }
   ],
   "source": [
    "#creating a new column which will determine the age of the building if built\n",
    "df['how old?'] = pd.Series(dtype='int64')\n",
    "from datetime import datetime\n",
    "def days_since(dates_series, date_format):\n",
    "    n = len(dates_series)\n",
    "    result = [0] * n\n",
    "\n",
    "    for i in range(n):\n",
    "        result[i] = (datetime.today() - datetime.strptime(dates_series[i], date_format)).days\n",
    "    \n",
    "    return result\n",
    "\n",
    "df['how old?'] = days_since(list(df['Sale Date']), \"%Y-%m-%d\")\n",
    "df = df.drop(columns='Sale Date')\n",
    "df['how old?'].head()"
   ]
  },
  {
   "cell_type": "code",
   "execution_count": 15,
   "metadata": {},
   "outputs": [],
   "source": [
    "#converting different words with same meaning as the same word\n",
    "df['Land Use'] = np.where(((df['Land Use'] == 'VACANT RES LAND') | (df['Land Use'] == 'VACANT RESIDENTIAL LAND') | (df['Land Use'] == 'VACANT RESIENTIAL LAND')),\n",
    "                          'VACANT RESIDENTIAL LAND',df['Land Use'])"
   ]
  },
  {
   "cell_type": "code",
   "execution_count": 16,
   "metadata": {},
   "outputs": [],
   "source": [
    "#reducing the cardinality of the column \"Land Use\" by creating 3 different categories\n",
    "residential = ['SINGLE FAMILY','VACANT RESIDENTIAL LAND','DUPLEX','ZERO LOT LINE','TRIPLEX','RESIDENTIAL COMBO/MISC','QUADPLEX','MOBILE HOME','DORMITORY/BOARDING HOUSE','APARTMENT: LOW RISE (BUILT SINCE 1960)','VACANT ZONED MULTI FAMILY']\n",
    "\n",
    "commercial = ['SPLIT CLASS','PARKING LOT','FOREST','GREENBELT','VACANT COMMERCIAL LAND','GREENBELT/RES\\r\\nGRRENBELT/RES','DAY CARE CENTER','TERMINAL/DISTRIBUTION WAREHOUSE','VACANT RURAL LAND','OFFICE BLDG (ONE OR TWO STORIES)','NON-PROFIT CHARITABLE SERVICE','CONVENIENCE MARKET WITHOUT GAS','METRO OTHER THAN OFC, SCHOOL,HOSP, OR PARK','STRIP SHOPPING CENTER','CLUB/UNION HALL/LODGE','ONE STORY GENERAL RETAIL STORE','LIGHT MANUFACTURING','NIGHTCLUB/LOUNGE','MORTUARY/CEMETERY']\n",
    "\n",
    "religious = ['CHURCH','PARSONAGE']\n",
    "\n",
    "df['Land Use'] = np.where(df['Land Use'].isin(residential),'RESIDENTIAL',df['Land Use'])\n",
    "df['Land Use'] = np.where(df['Land Use'].isin(commercial),'COMMERCIAL',df['Land Use'])\n",
    "df['Land Use'] = np.where(df['Land Use'].isin(religious),'RELIGIOUS',df['Land Use'])"
   ]
  },
  {
   "cell_type": "code",
   "execution_count": 17,
   "metadata": {},
   "outputs": [],
   "source": [
    "#converting objects to numerical values\n",
    "df['Sold As Vacant'] = np.where(df['Sold As Vacant']=='Yes',1,0)\n",
    "df['Sold As Vacant'] = df['Sold As Vacant'].astype(int)\n",
    "\n",
    "df['Multiple Parcels Involved in Sale'] = np.where(df['Multiple Parcels Involved in Sale']=='Yes',1,0)\n",
    "df['Multiple Parcels Involved in Sale'] = df['Multiple Parcels Involved in Sale'].astype(int)"
   ]
  },
  {
   "cell_type": "code",
   "execution_count": 18,
   "metadata": {},
   "outputs": [
    {
     "data": {
      "text/html": [
       "<div>\n",
       "<style scoped>\n",
       "    .dataframe tbody tr th:only-of-type {\n",
       "        vertical-align: middle;\n",
       "    }\n",
       "\n",
       "    .dataframe tbody tr th {\n",
       "        vertical-align: top;\n",
       "    }\n",
       "\n",
       "    .dataframe thead th {\n",
       "        text-align: right;\n",
       "    }\n",
       "</style>\n",
       "<table border=\"1\" class=\"dataframe\">\n",
       "  <thead>\n",
       "    <tr style=\"text-align: right;\">\n",
       "      <th></th>\n",
       "      <th>Sale Price</th>\n",
       "      <th>Sold As Vacant</th>\n",
       "      <th>Multiple Parcels Involved in Sale</th>\n",
       "      <th>Acreage</th>\n",
       "      <th>Land Value</th>\n",
       "      <th>Building Value</th>\n",
       "      <th>Total Value</th>\n",
       "      <th>Finished Area</th>\n",
       "      <th>Year Built</th>\n",
       "      <th>Bedrooms</th>\n",
       "      <th>Full Bath</th>\n",
       "      <th>Half Bath</th>\n",
       "      <th>Is it built?</th>\n",
       "      <th>how old?</th>\n",
       "      <th>Land Use_COMMERCIAL</th>\n",
       "      <th>Land Use_RELIGIOUS</th>\n",
       "      <th>Land Use_RESIDENTIAL</th>\n",
       "      <th>Property City_ANTIOCH</th>\n",
       "      <th>Property City_BELLEVUE</th>\n",
       "      <th>Property City_BRENTWOOD</th>\n",
       "      <th>Property City_GOODLETTSVILLE</th>\n",
       "      <th>Property City_HERMITAGE</th>\n",
       "      <th>Property City_JOELTON</th>\n",
       "      <th>Property City_MADISON</th>\n",
       "      <th>Property City_MOUNT JULIET</th>\n",
       "      <th>Property City_NASHVILLE</th>\n",
       "      <th>Property City_OLD HICKORY</th>\n",
       "      <th>Property City_WHITES CREEK</th>\n",
       "      <th>Foundation Type_CRAWL</th>\n",
       "      <th>Foundation Type_FULL BSMT</th>\n",
       "      <th>Foundation Type_PIERS</th>\n",
       "      <th>Foundation Type_PT BSMT</th>\n",
       "      <th>Foundation Type_SLAB</th>\n",
       "      <th>Foundation Type_TYPICAL</th>\n",
       "      <th>Exterior Wall_BRICK</th>\n",
       "      <th>Exterior Wall_BRICK/FRAME</th>\n",
       "      <th>Exterior Wall_CONC BLK</th>\n",
       "      <th>Exterior Wall_FRAME</th>\n",
       "      <th>Exterior Wall_FRAME/STONE</th>\n",
       "      <th>Exterior Wall_LOG</th>\n",
       "      <th>Exterior Wall_METAL</th>\n",
       "      <th>Exterior Wall_PRECAST CONC</th>\n",
       "      <th>Exterior Wall_STONE</th>\n",
       "      <th>Exterior Wall_STUCCO</th>\n",
       "      <th>Grade_A</th>\n",
       "      <th>Grade_AAB</th>\n",
       "      <th>Grade_AAC</th>\n",
       "      <th>Grade_B</th>\n",
       "      <th>Grade_C</th>\n",
       "      <th>Grade_D</th>\n",
       "      <th>Grade_E</th>\n",
       "      <th>Grade_IDC</th>\n",
       "      <th>Grade_OFB</th>\n",
       "      <th>Grade_OFC</th>\n",
       "      <th>Grade_OMB</th>\n",
       "      <th>Grade_SRC</th>\n",
       "      <th>Grade_SRD</th>\n",
       "      <th>Grade_SSC</th>\n",
       "      <th>Grade_TAC</th>\n",
       "      <th>Grade_TCB</th>\n",
       "      <th>Grade_TCC</th>\n",
       "      <th>Grade_TCD</th>\n",
       "      <th>Grade_TFC</th>\n",
       "      <th>Grade_X</th>\n",
       "    </tr>\n",
       "  </thead>\n",
       "  <tbody>\n",
       "    <tr>\n",
       "      <th>1</th>\n",
       "      <td>191500</td>\n",
       "      <td>0</td>\n",
       "      <td>0</td>\n",
       "      <td>0.17</td>\n",
       "      <td>32000.0</td>\n",
       "      <td>134400.0</td>\n",
       "      <td>168300.0</td>\n",
       "      <td>1149.00000</td>\n",
       "      <td>1941.0</td>\n",
       "      <td>2.0</td>\n",
       "      <td>1.0</td>\n",
       "      <td>0.0</td>\n",
       "      <td>1</td>\n",
       "      <td>2998</td>\n",
       "      <td>0</td>\n",
       "      <td>0</td>\n",
       "      <td>1</td>\n",
       "      <td>0</td>\n",
       "      <td>0</td>\n",
       "      <td>0</td>\n",
       "      <td>0</td>\n",
       "      <td>0</td>\n",
       "      <td>0</td>\n",
       "      <td>0</td>\n",
       "      <td>0</td>\n",
       "      <td>1</td>\n",
       "      <td>0</td>\n",
       "      <td>0</td>\n",
       "      <td>0</td>\n",
       "      <td>0</td>\n",
       "      <td>0</td>\n",
       "      <td>1</td>\n",
       "      <td>0</td>\n",
       "      <td>0</td>\n",
       "      <td>1</td>\n",
       "      <td>0</td>\n",
       "      <td>0</td>\n",
       "      <td>0</td>\n",
       "      <td>0</td>\n",
       "      <td>0</td>\n",
       "      <td>0</td>\n",
       "      <td>0</td>\n",
       "      <td>0</td>\n",
       "      <td>0</td>\n",
       "      <td>0</td>\n",
       "      <td>0</td>\n",
       "      <td>0</td>\n",
       "      <td>0</td>\n",
       "      <td>1</td>\n",
       "      <td>0</td>\n",
       "      <td>0</td>\n",
       "      <td>0</td>\n",
       "      <td>0</td>\n",
       "      <td>0</td>\n",
       "      <td>0</td>\n",
       "      <td>0</td>\n",
       "      <td>0</td>\n",
       "      <td>0</td>\n",
       "      <td>0</td>\n",
       "      <td>0</td>\n",
       "      <td>0</td>\n",
       "      <td>0</td>\n",
       "      <td>0</td>\n",
       "      <td>0</td>\n",
       "    </tr>\n",
       "    <tr>\n",
       "      <th>2</th>\n",
       "      <td>202000</td>\n",
       "      <td>0</td>\n",
       "      <td>0</td>\n",
       "      <td>0.11</td>\n",
       "      <td>34000.0</td>\n",
       "      <td>157800.0</td>\n",
       "      <td>191800.0</td>\n",
       "      <td>2090.82495</td>\n",
       "      <td>2000.0</td>\n",
       "      <td>3.0</td>\n",
       "      <td>2.0</td>\n",
       "      <td>1.0</td>\n",
       "      <td>1</td>\n",
       "      <td>2991</td>\n",
       "      <td>0</td>\n",
       "      <td>0</td>\n",
       "      <td>1</td>\n",
       "      <td>0</td>\n",
       "      <td>0</td>\n",
       "      <td>0</td>\n",
       "      <td>0</td>\n",
       "      <td>0</td>\n",
       "      <td>0</td>\n",
       "      <td>0</td>\n",
       "      <td>0</td>\n",
       "      <td>1</td>\n",
       "      <td>0</td>\n",
       "      <td>0</td>\n",
       "      <td>0</td>\n",
       "      <td>0</td>\n",
       "      <td>0</td>\n",
       "      <td>0</td>\n",
       "      <td>1</td>\n",
       "      <td>0</td>\n",
       "      <td>0</td>\n",
       "      <td>1</td>\n",
       "      <td>0</td>\n",
       "      <td>0</td>\n",
       "      <td>0</td>\n",
       "      <td>0</td>\n",
       "      <td>0</td>\n",
       "      <td>0</td>\n",
       "      <td>0</td>\n",
       "      <td>0</td>\n",
       "      <td>0</td>\n",
       "      <td>0</td>\n",
       "      <td>0</td>\n",
       "      <td>0</td>\n",
       "      <td>1</td>\n",
       "      <td>0</td>\n",
       "      <td>0</td>\n",
       "      <td>0</td>\n",
       "      <td>0</td>\n",
       "      <td>0</td>\n",
       "      <td>0</td>\n",
       "      <td>0</td>\n",
       "      <td>0</td>\n",
       "      <td>0</td>\n",
       "      <td>0</td>\n",
       "      <td>0</td>\n",
       "      <td>0</td>\n",
       "      <td>0</td>\n",
       "      <td>0</td>\n",
       "      <td>0</td>\n",
       "    </tr>\n",
       "    <tr>\n",
       "      <th>3</th>\n",
       "      <td>32000</td>\n",
       "      <td>0</td>\n",
       "      <td>0</td>\n",
       "      <td>0.17</td>\n",
       "      <td>25000.0</td>\n",
       "      <td>243700.0</td>\n",
       "      <td>268700.0</td>\n",
       "      <td>2145.60001</td>\n",
       "      <td>1948.0</td>\n",
       "      <td>4.0</td>\n",
       "      <td>2.0</td>\n",
       "      <td>0.0</td>\n",
       "      <td>1</td>\n",
       "      <td>2991</td>\n",
       "      <td>0</td>\n",
       "      <td>0</td>\n",
       "      <td>1</td>\n",
       "      <td>0</td>\n",
       "      <td>0</td>\n",
       "      <td>0</td>\n",
       "      <td>0</td>\n",
       "      <td>0</td>\n",
       "      <td>0</td>\n",
       "      <td>0</td>\n",
       "      <td>0</td>\n",
       "      <td>1</td>\n",
       "      <td>0</td>\n",
       "      <td>0</td>\n",
       "      <td>0</td>\n",
       "      <td>1</td>\n",
       "      <td>0</td>\n",
       "      <td>0</td>\n",
       "      <td>0</td>\n",
       "      <td>0</td>\n",
       "      <td>0</td>\n",
       "      <td>1</td>\n",
       "      <td>0</td>\n",
       "      <td>0</td>\n",
       "      <td>0</td>\n",
       "      <td>0</td>\n",
       "      <td>0</td>\n",
       "      <td>0</td>\n",
       "      <td>0</td>\n",
       "      <td>0</td>\n",
       "      <td>0</td>\n",
       "      <td>0</td>\n",
       "      <td>0</td>\n",
       "      <td>1</td>\n",
       "      <td>0</td>\n",
       "      <td>0</td>\n",
       "      <td>0</td>\n",
       "      <td>0</td>\n",
       "      <td>0</td>\n",
       "      <td>0</td>\n",
       "      <td>0</td>\n",
       "      <td>0</td>\n",
       "      <td>0</td>\n",
       "      <td>0</td>\n",
       "      <td>0</td>\n",
       "      <td>0</td>\n",
       "      <td>0</td>\n",
       "      <td>0</td>\n",
       "      <td>0</td>\n",
       "      <td>0</td>\n",
       "    </tr>\n",
       "    <tr>\n",
       "      <th>4</th>\n",
       "      <td>102000</td>\n",
       "      <td>0</td>\n",
       "      <td>0</td>\n",
       "      <td>0.34</td>\n",
       "      <td>25000.0</td>\n",
       "      <td>138100.0</td>\n",
       "      <td>164800.0</td>\n",
       "      <td>1969.00000</td>\n",
       "      <td>1910.0</td>\n",
       "      <td>2.0</td>\n",
       "      <td>1.0</td>\n",
       "      <td>0.0</td>\n",
       "      <td>1</td>\n",
       "      <td>2986</td>\n",
       "      <td>0</td>\n",
       "      <td>0</td>\n",
       "      <td>1</td>\n",
       "      <td>0</td>\n",
       "      <td>0</td>\n",
       "      <td>0</td>\n",
       "      <td>0</td>\n",
       "      <td>0</td>\n",
       "      <td>0</td>\n",
       "      <td>0</td>\n",
       "      <td>0</td>\n",
       "      <td>1</td>\n",
       "      <td>0</td>\n",
       "      <td>0</td>\n",
       "      <td>1</td>\n",
       "      <td>0</td>\n",
       "      <td>0</td>\n",
       "      <td>0</td>\n",
       "      <td>0</td>\n",
       "      <td>0</td>\n",
       "      <td>0</td>\n",
       "      <td>0</td>\n",
       "      <td>0</td>\n",
       "      <td>1</td>\n",
       "      <td>0</td>\n",
       "      <td>0</td>\n",
       "      <td>0</td>\n",
       "      <td>0</td>\n",
       "      <td>0</td>\n",
       "      <td>0</td>\n",
       "      <td>0</td>\n",
       "      <td>0</td>\n",
       "      <td>0</td>\n",
       "      <td>0</td>\n",
       "      <td>1</td>\n",
       "      <td>0</td>\n",
       "      <td>0</td>\n",
       "      <td>0</td>\n",
       "      <td>0</td>\n",
       "      <td>0</td>\n",
       "      <td>0</td>\n",
       "      <td>0</td>\n",
       "      <td>0</td>\n",
       "      <td>0</td>\n",
       "      <td>0</td>\n",
       "      <td>0</td>\n",
       "      <td>0</td>\n",
       "      <td>0</td>\n",
       "      <td>0</td>\n",
       "      <td>0</td>\n",
       "    </tr>\n",
       "    <tr>\n",
       "      <th>5</th>\n",
       "      <td>93736</td>\n",
       "      <td>0</td>\n",
       "      <td>0</td>\n",
       "      <td>0.17</td>\n",
       "      <td>25000.0</td>\n",
       "      <td>86100.0</td>\n",
       "      <td>113300.0</td>\n",
       "      <td>1037.00000</td>\n",
       "      <td>1945.0</td>\n",
       "      <td>2.0</td>\n",
       "      <td>1.0</td>\n",
       "      <td>0.0</td>\n",
       "      <td>1</td>\n",
       "      <td>3005</td>\n",
       "      <td>0</td>\n",
       "      <td>0</td>\n",
       "      <td>1</td>\n",
       "      <td>0</td>\n",
       "      <td>0</td>\n",
       "      <td>0</td>\n",
       "      <td>0</td>\n",
       "      <td>0</td>\n",
       "      <td>0</td>\n",
       "      <td>0</td>\n",
       "      <td>0</td>\n",
       "      <td>1</td>\n",
       "      <td>0</td>\n",
       "      <td>0</td>\n",
       "      <td>1</td>\n",
       "      <td>0</td>\n",
       "      <td>0</td>\n",
       "      <td>0</td>\n",
       "      <td>0</td>\n",
       "      <td>0</td>\n",
       "      <td>0</td>\n",
       "      <td>0</td>\n",
       "      <td>0</td>\n",
       "      <td>1</td>\n",
       "      <td>0</td>\n",
       "      <td>0</td>\n",
       "      <td>0</td>\n",
       "      <td>0</td>\n",
       "      <td>0</td>\n",
       "      <td>0</td>\n",
       "      <td>0</td>\n",
       "      <td>0</td>\n",
       "      <td>0</td>\n",
       "      <td>0</td>\n",
       "      <td>1</td>\n",
       "      <td>0</td>\n",
       "      <td>0</td>\n",
       "      <td>0</td>\n",
       "      <td>0</td>\n",
       "      <td>0</td>\n",
       "      <td>0</td>\n",
       "      <td>0</td>\n",
       "      <td>0</td>\n",
       "      <td>0</td>\n",
       "      <td>0</td>\n",
       "      <td>0</td>\n",
       "      <td>0</td>\n",
       "      <td>0</td>\n",
       "      <td>0</td>\n",
       "      <td>0</td>\n",
       "    </tr>\n",
       "  </tbody>\n",
       "</table>\n",
       "</div>"
      ],
      "text/plain": [
       "   Sale Price  Sold As Vacant  Multiple Parcels Involved in Sale  Acreage  \\\n",
       "1      191500               0                                  0     0.17   \n",
       "2      202000               0                                  0     0.11   \n",
       "3       32000               0                                  0     0.17   \n",
       "4      102000               0                                  0     0.34   \n",
       "5       93736               0                                  0     0.17   \n",
       "\n",
       "   Land Value  Building Value  Total Value  Finished Area  Year Built  \\\n",
       "1     32000.0        134400.0     168300.0     1149.00000      1941.0   \n",
       "2     34000.0        157800.0     191800.0     2090.82495      2000.0   \n",
       "3     25000.0        243700.0     268700.0     2145.60001      1948.0   \n",
       "4     25000.0        138100.0     164800.0     1969.00000      1910.0   \n",
       "5     25000.0         86100.0     113300.0     1037.00000      1945.0   \n",
       "\n",
       "   Bedrooms  Full Bath  Half Bath  Is it built?  how old?  \\\n",
       "1       2.0        1.0        0.0             1      2998   \n",
       "2       3.0        2.0        1.0             1      2991   \n",
       "3       4.0        2.0        0.0             1      2991   \n",
       "4       2.0        1.0        0.0             1      2986   \n",
       "5       2.0        1.0        0.0             1      3005   \n",
       "\n",
       "   Land Use_COMMERCIAL  Land Use_RELIGIOUS  Land Use_RESIDENTIAL  \\\n",
       "1                    0                   0                     1   \n",
       "2                    0                   0                     1   \n",
       "3                    0                   0                     1   \n",
       "4                    0                   0                     1   \n",
       "5                    0                   0                     1   \n",
       "\n",
       "   Property City_ANTIOCH  Property City_BELLEVUE  Property City_BRENTWOOD  \\\n",
       "1                      0                       0                        0   \n",
       "2                      0                       0                        0   \n",
       "3                      0                       0                        0   \n",
       "4                      0                       0                        0   \n",
       "5                      0                       0                        0   \n",
       "\n",
       "   Property City_GOODLETTSVILLE  Property City_HERMITAGE  \\\n",
       "1                             0                        0   \n",
       "2                             0                        0   \n",
       "3                             0                        0   \n",
       "4                             0                        0   \n",
       "5                             0                        0   \n",
       "\n",
       "   Property City_JOELTON  Property City_MADISON  Property City_MOUNT JULIET  \\\n",
       "1                      0                      0                           0   \n",
       "2                      0                      0                           0   \n",
       "3                      0                      0                           0   \n",
       "4                      0                      0                           0   \n",
       "5                      0                      0                           0   \n",
       "\n",
       "   Property City_NASHVILLE  Property City_OLD HICKORY  \\\n",
       "1                        1                          0   \n",
       "2                        1                          0   \n",
       "3                        1                          0   \n",
       "4                        1                          0   \n",
       "5                        1                          0   \n",
       "\n",
       "   Property City_WHITES CREEK  Foundation Type_CRAWL  \\\n",
       "1                           0                      0   \n",
       "2                           0                      0   \n",
       "3                           0                      0   \n",
       "4                           0                      1   \n",
       "5                           0                      1   \n",
       "\n",
       "   Foundation Type_FULL BSMT  Foundation Type_PIERS  Foundation Type_PT BSMT  \\\n",
       "1                          0                      0                        1   \n",
       "2                          0                      0                        0   \n",
       "3                          1                      0                        0   \n",
       "4                          0                      0                        0   \n",
       "5                          0                      0                        0   \n",
       "\n",
       "   Foundation Type_SLAB  Foundation Type_TYPICAL  Exterior Wall_BRICK  \\\n",
       "1                     0                        0                    1   \n",
       "2                     1                        0                    0   \n",
       "3                     0                        0                    0   \n",
       "4                     0                        0                    0   \n",
       "5                     0                        0                    0   \n",
       "\n",
       "   Exterior Wall_BRICK/FRAME  Exterior Wall_CONC BLK  Exterior Wall_FRAME  \\\n",
       "1                          0                       0                    0   \n",
       "2                          1                       0                    0   \n",
       "3                          1                       0                    0   \n",
       "4                          0                       0                    1   \n",
       "5                          0                       0                    1   \n",
       "\n",
       "   Exterior Wall_FRAME/STONE  Exterior Wall_LOG  Exterior Wall_METAL  \\\n",
       "1                          0                  0                    0   \n",
       "2                          0                  0                    0   \n",
       "3                          0                  0                    0   \n",
       "4                          0                  0                    0   \n",
       "5                          0                  0                    0   \n",
       "\n",
       "   Exterior Wall_PRECAST CONC  Exterior Wall_STONE  Exterior Wall_STUCCO  \\\n",
       "1                           0                    0                     0   \n",
       "2                           0                    0                     0   \n",
       "3                           0                    0                     0   \n",
       "4                           0                    0                     0   \n",
       "5                           0                    0                     0   \n",
       "\n",
       "   Grade_A     Grade_AAB   Grade_AAC   Grade_B     Grade_C     Grade_D     \\\n",
       "1           0           0           0           0           1           0   \n",
       "2           0           0           0           0           1           0   \n",
       "3           0           0           0           1           0           0   \n",
       "4           0           0           0           0           1           0   \n",
       "5           0           0           0           0           1           0   \n",
       "\n",
       "   Grade_E     Grade_IDC   Grade_OFB   Grade_OFC   Grade_OMB   Grade_SRC   \\\n",
       "1           0           0           0           0           0           0   \n",
       "2           0           0           0           0           0           0   \n",
       "3           0           0           0           0           0           0   \n",
       "4           0           0           0           0           0           0   \n",
       "5           0           0           0           0           0           0   \n",
       "\n",
       "   Grade_SRD   Grade_SSC   Grade_TAC   Grade_TCB   Grade_TCC   Grade_TCD   \\\n",
       "1           0           0           0           0           0           0   \n",
       "2           0           0           0           0           0           0   \n",
       "3           0           0           0           0           0           0   \n",
       "4           0           0           0           0           0           0   \n",
       "5           0           0           0           0           0           0   \n",
       "\n",
       "   Grade_TFC   Grade_X     \n",
       "1           0           0  \n",
       "2           0           0  \n",
       "3           0           0  \n",
       "4           0           0  \n",
       "5           0           0  "
      ]
     },
     "execution_count": 18,
     "metadata": {},
     "output_type": "execute_result"
    }
   ],
   "source": [
    "#one hot encoding for all object datatype columns\n",
    "df_model = pd.get_dummies(df, columns=['Land Use','Property City','Foundation Type','Exterior Wall','Grade'])\n",
    "df_model.head()"
   ]
  },
  {
   "cell_type": "markdown",
   "metadata": {},
   "source": [
    "## Linear Regression"
   ]
  },
  {
   "cell_type": "code",
   "execution_count": 19,
   "metadata": {},
   "outputs": [],
   "source": [
    "df_linear = df_model.copy()"
   ]
  },
  {
   "cell_type": "code",
   "execution_count": 20,
   "metadata": {},
   "outputs": [],
   "source": [
    "#filling the remaining null values as 0 because Linear regression cannot handle null values\n",
    "df_linear = df_linear.fillna(0)"
   ]
  },
  {
   "cell_type": "code",
   "execution_count": 21,
   "metadata": {},
   "outputs": [],
   "source": [
    "df_1=df_linear.drop(columns=['Sale Price'],axis=1)"
   ]
  },
  {
   "cell_type": "code",
   "execution_count": 22,
   "metadata": {},
   "outputs": [],
   "source": [
    "from sklearn.model_selection import train_test_split\n",
    "X_train, X_test, y_train, y_test = train_test_split(df_1,\n",
    "                                                    df_linear[\"Sale Price\"],\n",
    "                                                    test_size=0.30,\n",
    "                                                    random_state=42)"
   ]
  },
  {
   "cell_type": "code",
   "execution_count": 23,
   "metadata": {},
   "outputs": [],
   "source": [
    "from sklearn.preprocessing import MinMaxScaler\n",
    "scaler = MinMaxScaler()\n",
    "X_train_scaled = pd.DataFrame(scaler.fit_transform(X_train))\n",
    "X_test_scaled = pd.DataFrame(scaler.transform(X_test))"
   ]
  },
  {
   "cell_type": "code",
   "execution_count": 24,
   "metadata": {},
   "outputs": [
    {
     "data": {
      "text/plain": [
       "LinearRegression()"
      ]
     },
     "execution_count": 24,
     "metadata": {},
     "output_type": "execute_result"
    }
   ],
   "source": [
    "from sklearn.linear_model import LinearRegression\n",
    "from sklearn.metrics import r2_score,mean_squared_error,mean_absolute_error\n",
    "\n",
    "LR = LinearRegression()\n",
    "LR.fit(X_train_scaled.values, y_train.values)"
   ]
  },
  {
   "cell_type": "code",
   "execution_count": 27,
   "metadata": {},
   "outputs": [],
   "source": [
    "y_pred = LR.predict(X_test_scaled)"
   ]
  },
  {
   "cell_type": "code",
   "execution_count": 32,
   "metadata": {},
   "outputs": [
    {
     "data": {
      "text/plain": [
       "63"
      ]
     },
     "execution_count": 32,
     "metadata": {},
     "output_type": "execute_result"
    }
   ],
   "source": [
    "df_1.columns.size"
   ]
  },
  {
   "cell_type": "code",
   "execution_count": 34,
   "metadata": {},
   "outputs": [
    {
     "data": {
      "text/plain": [
       "63"
      ]
     },
     "execution_count": 34,
     "metadata": {},
     "output_type": "execute_result"
    }
   ],
   "source": [
    "LR.coef_.size"
   ]
  },
  {
   "cell_type": "code",
   "execution_count": 36,
   "metadata": {},
   "outputs": [
    {
     "data": {
      "image/png": "[encoded data removed]",
      "text/plain": [
       "<Figure size 720x1080 with 1 Axes>"
      ]
     },
     "metadata": {
      "needs_background": "light"
     },
     "output_type": "display_data"
    }
   ],
   "source": [
    "plt.figure(figsize=(10,15))\n",
    "sns.barplot(x=LR.coef_, y=df_1.columns)\n",
    "plt.title('FEATURE IMPORTANCE CHART')\n",
    "plt.ylabel('FEATURE NAMES')\n",
    "plt.show()"
   ]
  },
  {
   "cell_type": "code",
   "execution_count": 28,
   "metadata": {},
   "outputs": [
    {
     "name": "stdout",
     "output_type": "stream",
     "text": [
      "R2 score: -4.852798836882028e+18\n",
      "Mean Squared Error: 6.996922218665343e+29\n",
      "Root Mean Squared Error: 836476073696393.5\n",
      "Mean Absolute Error: 16627282840734.66\n"
     ]
    }
   ],
   "source": [
    "print('R2 score:',r2_score(y_test.values,y_pred))\n",
    "print('Mean Squared Error:',mean_squared_error(y_test.values,y_pred))\n",
    "print('Root Mean Squared Error:',np.sqrt(mean_squared_error(y_test.values,y_pred)))\n",
    "print('Mean Absolute Error:',mean_absolute_error(y_test.values,y_pred))"
   ]
  },
  {
   "cell_type": "markdown",
   "metadata": {},
   "source": [
    "Negative value of R2 score becasue the problem does not fit as a Linear problem"
   ]
  },
  {
   "cell_type": "markdown",
   "metadata": {},
   "source": [
    "## Decision Trees"
   ]
  },
  {
   "cell_type": "code",
   "execution_count": 383,
   "metadata": {},
   "outputs": [
    {
     "data": {
      "text/plain": [
       "DecisionTreeRegressor(random_state=0)"
      ]
     },
     "execution_count": 383,
     "metadata": {},
     "output_type": "execute_result"
    }
   ],
   "source": [
    "from sklearn.tree import DecisionTreeRegressor\n",
    "DT = DecisionTreeRegressor(random_state=0)\n",
    "DT.fit(X_train.values,y_train.values)\n"
   ]
  },
  {
   "cell_type": "code",
   "execution_count": 384,
   "metadata": {},
   "outputs": [],
   "source": [
    "y_pred_DT = DT.predict(X_test)"
   ]
  },
  {
   "cell_type": "code",
   "execution_count": 385,
   "metadata": {},
   "outputs": [
    {
     "name": "stdout",
     "output_type": "stream",
     "text": [
      "R2 score: 0.3480445297747029\n",
      "Mean Squared Error: 94001046994.37158\n",
      "Root Mean Squared Error: 306595.90178991563\n",
      "Mean Absolute Error: 80059.33151825753\n"
     ]
    }
   ],
   "source": [
    "print('R2 score:',r2_score(y_test.values,y_pred_DT))\n",
    "print('Mean Squared Error:',mean_squared_error(y_test.values,y_pred_DT))\n",
    "print('Root Mean Squared Error:',np.sqrt(mean_squared_error(y_test.values,y_pred_DT)))\n",
    "print('Mean Absolute Error:',mean_absolute_error(y_test.values,y_pred_DT))"
   ]
  },
  {
   "cell_type": "markdown",
   "metadata": {},
   "source": [
    "Great improvement from Linear regression"
   ]
  },
  {
   "cell_type": "markdown",
   "metadata": {},
   "source": [
    "## Random Forest"
   ]
  },
  {
   "cell_type": "code",
   "execution_count": 386,
   "metadata": {},
   "outputs": [
    {
     "data": {
      "text/plain": [
       "RandomForestRegressor(random_state=42)"
      ]
     },
     "execution_count": 386,
     "metadata": {},
     "output_type": "execute_result"
    }
   ],
   "source": [
    "from sklearn.ensemble import RandomForestRegressor\n",
    "rf = RandomForestRegressor(random_state=42)\n",
    "rf.fit(X_train.values,y_train.values)\n"
   ]
  },
  {
   "cell_type": "code",
   "execution_count": 387,
   "metadata": {},
   "outputs": [],
   "source": [
    "y_pred_rf = rf.predict(X_test)"
   ]
  },
  {
   "cell_type": "code",
   "execution_count": 388,
   "metadata": {},
   "outputs": [
    {
     "name": "stdout",
     "output_type": "stream",
     "text": [
      "R2 score: 0.6527821978881847\n",
      "Mean Squared Error: 50062985010.79549\n",
      "Root Mean Squared Error: 223747.59218993952\n",
      "Mean Absolute Error: 62586.18186623755\n"
     ]
    }
   ],
   "source": [
    "print('R2 score:',r2_score(y_test.values,y_pred_rf))\n",
    "print('Mean Squared Error:',mean_squared_error(y_test.values,y_pred_rf))\n",
    "print('Root Mean Squared Error:',np.sqrt(mean_squared_error(y_test.values,y_pred_rf)))\n",
    "print('Mean Absolute Error:',mean_absolute_error(y_test.values,y_pred_rf))"
   ]
  },
  {
   "cell_type": "markdown",
   "metadata": {},
   "source": [
    "Values are almost double from decision trees regressor"
   ]
  },
  {
   "cell_type": "markdown",
   "metadata": {},
   "source": [
    "## XGBoost"
   ]
  },
  {
   "cell_type": "code",
   "execution_count": 389,
   "metadata": {},
   "outputs": [],
   "source": [
    "#XGBoost can handle null values so feeding it with the original data\n",
    "df_1_xgb=df_model.drop(columns=['Sale Price'],axis=1)"
   ]
  },
  {
   "cell_type": "code",
   "execution_count": 390,
   "metadata": {},
   "outputs": [],
   "source": [
    "from sklearn.model_selection import train_test_split\n",
    "X_train_xgb, X_test_xgb, y_train_xgb, y_test_xgb = train_test_split(df_1_xgb,\n",
    "                                                    df_model[\"Sale Price\"],\n",
    "                                                    test_size=0.30,\n",
    "                                                    random_state=42)"
   ]
  },
  {
   "cell_type": "code",
   "execution_count": 391,
   "metadata": {},
   "outputs": [
    {
     "data": {
      "text/plain": [
       "XGBRegressor(base_score=0.5, booster='gbtree', colsample_bylevel=1,\n",
       "             colsample_bynode=1, colsample_bytree=1, gamma=0, gpu_id=-1,\n",
       "             importance_type='gain', interaction_constraints='',\n",
       "             learning_rate=0.300000012, max_delta_step=0, max_depth=6,\n",
       "             min_child_weight=1, missing=nan, monotone_constraints='()',\n",
       "             n_estimators=100, n_jobs=0, num_parallel_tree=1, random_state=0,\n",
       "             reg_alpha=0, reg_lambda=1, scale_pos_weight=1, subsample=1,\n",
       "             tree_method='exact', validate_parameters=1, verbosity=None)"
      ]
     },
     "execution_count": 391,
     "metadata": {},
     "output_type": "execute_result"
    }
   ],
   "source": [
    "import xgboost as xgb\n",
    "xgboost = xgb.XGBRegressor()\n",
    "xgboost.fit(X_train_xgb, y_train_xgb)"
   ]
  },
  {
   "cell_type": "code",
   "execution_count": 392,
   "metadata": {},
   "outputs": [],
   "source": [
    "y_pred_xgb = xgboost.predict(X_test_xgb)"
   ]
  },
  {
   "cell_type": "code",
   "execution_count": 393,
   "metadata": {},
   "outputs": [
    {
     "name": "stdout",
     "output_type": "stream",
     "text": [
      "R2 score: 0.6678875022061043\n",
      "Mean Squared Error: 47885053409.7885\n",
      "Root Mean Squared Error: 218826.53726133972\n",
      "Mean Absolute Error: 64039.1045329141\n"
     ]
    }
   ],
   "source": [
    "print('R2 score:',r2_score(y_test_xgb.values,y_pred_xgb))\n",
    "print('Mean Squared Error:',mean_squared_error(y_test_xgb.values,y_pred_xgb))\n",
    "print('Root Mean Squared Error:',np.sqrt(mean_squared_error(y_test_xgb.values,y_pred_xgb)))\n",
    "print('Mean Absolute Error:',mean_absolute_error(y_test_xgb.values,y_pred_xgb))"
   ]
  },
  {
   "cell_type": "markdown",
   "metadata": {},
   "source": [
    "R2 score improved a bit. According to the calculated metrics, XGBoost is the best model as it calculated with the original data without imputing Nulls with zeroes. It does not overfit the data. It runs its own regularization technique without actually calling it. We can improve this model even further by hyperparameter tuning."
   ]
  },
  {
   "cell_type": "code",
   "execution_count": null,
   "metadata": {},
   "outputs": [],
   "source": []
  }
 ],
 "metadata": {
  "kernelspec": {
   "display_name": "Python 3",
   "language": "python",
   "name": "python3"
  },
  "language_info": {
   "codemirror_mode": {
    "name": "ipython",
    "version": 3
   },
   "file_extension": ".py",
   "mimetype": "text/x-python",
   "name": "python",
   "nbconvert_exporter": "python",
   "pygments_lexer": "ipython3",
   "version": "3.7.6"
  }
 },
 "nbformat": 4,
 "nbformat_minor": 4
}
